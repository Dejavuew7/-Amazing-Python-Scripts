{
 "cells": [
  {
   "cell_type": "markdown",
   "metadata": {},
   "source": [
    "# MALARIA DETECTION"
   ]
  },
  {
   "cell_type": "markdown",
   "metadata": {},
   "source": [
    "### Importing Libraries"
   ]
  },
  {
   "cell_type": "code",
   "execution_count": 1,
   "metadata": {},
   "outputs": [],
   "source": [
    "# importing the libraries for loading data and visualisation\n",
    "import os\n",
    "import cv2\n",
    "import pandas as pd\n",
    "import numpy as np\n",
    "import matplotlib.pyplot as plt\n",
    "%matplotlib inline \n",
    "from PIL import Image\n",
    "import seaborn as sns\n",
    "\n",
    "# import for train-test-split\n",
    "from sklearn.model_selection import train_test_split\n",
    "\n",
    "# import for One Hot Encoding\n",
    "from keras.utils import to_categorical\n",
    "\n",
    "# importing libraries for Model\n",
    "import tensorflow as tf\n",
    "from tensorflow import keras\n",
    "from tensorflow.keras.models import Sequential\n",
    "from tensorflow.keras.layers import Conv2D, MaxPooling2D\n",
    "from tensorflow.keras.layers import Dense, Flatten, Dropout, BatchNormalization\n",
    "\n",
    "# importing libraries for evaluating the model\n",
    "from sklearn.metrics import accuracy_score\n",
    "from sklearn.metrics import confusion_matrix"
   ]
  },
  {
   "cell_type": "markdown",
   "metadata": {},
   "source": [
    "## Loading Data and Train-Test-Split "
   ]
  },
  {
   "cell_type": "code",
   "execution_count": 2,
   "metadata": {},
   "outputs": [
    {
     "name": "stdout",
     "output_type": "stream",
     "text": [
      "\n",
      "\n",
      "Cells : (27558, 50, 50, 3) and labels : (27558,)\n"
     ]
    }
   ],
   "source": [
    "# loading the data of images and setting their labels\n",
    "data = []\n",
    "labels = []\n",
    "\n",
    "Parasitized = os.listdir(\"../input/cell-images-for-detecting-malaria/cell_images/Parasitized/\")\n",
    "\n",
    "for a in Parasitized:\n",
    "    \n",
    "    try:\n",
    "        image = cv2.imread(\"../input/cell-images-for-detecting-malaria/cell_images/Parasitized/\" + a)\n",
    "        image_from_array = Image.fromarray(image, 'RGB')\n",
    "        size_image = image_from_array.resize((50, 50))\n",
    "        data.append(np.array(size_image))\n",
    "        labels.append(0)\n",
    "    \n",
    "    except AttributeError:\n",
    "        print(\"\")\n",
    "\n",
    "Uninfected = os.listdir(\"../input/cell-images-for-detecting-malaria/cell_images/Uninfected/\")\n",
    "\n",
    "for b in Uninfected:\n",
    "\n",
    "    try:\n",
    "        image = cv2.imread(\"../input/cell-images-for-detecting-malaria/cell_images/Uninfected/\" + b)\n",
    "        image_from_array = Image.fromarray(image, 'RGB')\n",
    "        size_image = image_from_array.resize((50, 50))\n",
    "        data.append(np.array(size_image))\n",
    "        labels.append(1)\n",
    "    \n",
    "    except AttributeError:\n",
    "        print(\"\")\n",
    "\n",
    "# Creating single numpy array of all the images and labels\n",
    "data = np.array(data)\n",
    "labels = np.array(labels)\n",
    "\n",
    "print('Cells : {} and labels : {}'.format(data.shape , labels.shape))\n",
    "\n",
    "# lets shuffle the data and labels before splitting them into training and testing sets\n",
    "n = np.arange(data.shape[0])\n",
    "np.random.shuffle(n)\n",
    "data = data[n]\n",
    "labels = labels[n]"
   ]
  },
  {
   "cell_type": "code",
   "execution_count": 3,
   "metadata": {},
   "outputs": [
    {
     "name": "stdout",
     "output_type": "stream",
     "text": [
      "Train data shape (22046, 50, 50, 3) ,Test data shape (5512, 50, 50, 3) \n"
     ]
    }
   ],
   "source": [
    "### Splitting the dataset into the Training set and Test set\n",
    "\n",
    "X_train, X_valid, y_train, y_valid = train_test_split(data, labels, test_size = 0.2, random_state = 0)\n",
    "\n",
    "print('Train data shape {} ,Test data shape {} '.format(X_train.shape, X_valid.shape))"
   ]
  },
  {
   "cell_type": "code",
   "execution_count": 4,
   "metadata": {},
   "outputs": [],
   "source": [
    "X_train = X_train.astype('float32')  \n",
    "X_valid = X_valid.astype('float32')"
   ]
  },
  {
   "cell_type": "code",
   "execution_count": 5,
   "metadata": {},
   "outputs": [],
   "source": [
    "# One Hot Encoding \n",
    "y_train = to_categorical(y_train)\n",
    "y_valid = to_categorical(y_valid)"
   ]
  },
  {
   "cell_type": "markdown",
   "metadata": {},
   "source": [
    "## Building Model"
   ]
  },
  {
   "cell_type": "code",
   "execution_count": 6,
   "metadata": {},
   "outputs": [],
   "source": [
    "# Defining Model\n",
    "classifier = Sequential()\n",
    "\n",
    "# CNN layers\n",
    "classifier.add(Conv2D(32, kernel_size=(3, 3), input_shape = (50, 50, 3), activation = 'relu'))\n",
    "classifier.add(MaxPooling2D(pool_size = (2, 2)))\n",
    "classifier.add(BatchNormalization(axis = -1))\n",
    "classifier.add(Dropout(0.5))   # Dropout prevents overfitting\n",
    "\n",
    "classifier.add(Conv2D(32, kernel_size=(3, 3), input_shape = (50, 50, 3), activation = 'relu'))\n",
    "classifier.add(MaxPooling2D(pool_size = (2, 2)))\n",
    "classifier.add(BatchNormalization(axis = -1))\n",
    "classifier.add(Dropout(0.5))\n",
    "\n",
    "classifier.add(Flatten())\n",
    "\n",
    "classifier.add(Dense(units=128, activation='relu'))\n",
    "classifier.add(BatchNormalization(axis = -1))\n",
    "classifier.add(Dropout(0.5))\n",
    "\n",
    "classifier.add(Dense(units=2, activation='softmax')) "
   ]
  },
  {
   "cell_type": "code",
   "execution_count": 7,
   "metadata": {},
   "outputs": [],
   "source": [
    "classifier.compile(optimizer = 'adam', loss = 'categorical_crossentropy', metrics = ['accuracy'])"
   ]
  },
  {
   "cell_type": "code",
   "execution_count": 8,
   "metadata": {},
   "outputs": [
    {
     "name": "stdout",
     "output_type": "stream",
     "text": [
      "Epoch 1/15\n",
      "184/184 [==============================] - 35s 188ms/step - loss: 0.8184 - accuracy: 0.6335 - val_loss: 1.1224 - val_accuracy: 0.5381\n",
      "Epoch 2/15\n",
      "184/184 [==============================] - 34s 186ms/step - loss: 0.5323 - accuracy: 0.7513 - val_loss: 3.7602 - val_accuracy: 0.5142\n",
      "Epoch 3/15\n",
      "184/184 [==============================] - 35s 190ms/step - loss: 0.3502 - accuracy: 0.8630 - val_loss: 2.3590 - val_accuracy: 0.6333\n",
      "Epoch 4/15\n",
      "184/184 [==============================] - 34s 183ms/step - loss: 0.2813 - accuracy: 0.8928 - val_loss: 0.5241 - val_accuracy: 0.8483\n",
      "Epoch 5/15\n",
      "184/184 [==============================] - 34s 186ms/step - loss: 0.2409 - accuracy: 0.9116 - val_loss: 0.7730 - val_accuracy: 0.8091\n",
      "Epoch 6/15\n",
      "184/184 [==============================] - 34s 186ms/step - loss: 0.2181 - accuracy: 0.9208 - val_loss: 0.4525 - val_accuracy: 0.8639\n",
      "Epoch 7/15\n",
      "184/184 [==============================] - 34s 187ms/step - loss: 0.2018 - accuracy: 0.9280 - val_loss: 0.2444 - val_accuracy: 0.9176\n",
      "Epoch 8/15\n",
      "184/184 [==============================] - 34s 186ms/step - loss: 0.1875 - accuracy: 0.9325 - val_loss: 0.2131 - val_accuracy: 0.9332\n",
      "Epoch 9/15\n",
      "184/184 [==============================] - 34s 182ms/step - loss: 0.1809 - accuracy: 0.9363 - val_loss: 0.2225 - val_accuracy: 0.9278\n",
      "Epoch 10/15\n",
      "184/184 [==============================] - 34s 184ms/step - loss: 0.1742 - accuracy: 0.9381 - val_loss: 0.3947 - val_accuracy: 0.8830\n",
      "Epoch 11/15\n",
      "184/184 [==============================] - 34s 182ms/step - loss: 0.1653 - accuracy: 0.9433 - val_loss: 0.1856 - val_accuracy: 0.9341\n",
      "Epoch 12/15\n",
      "184/184 [==============================] - 34s 184ms/step - loss: 0.1569 - accuracy: 0.9459 - val_loss: 0.3146 - val_accuracy: 0.9006\n",
      "Epoch 13/15\n",
      "184/184 [==============================] - 35s 191ms/step - loss: 0.1565 - accuracy: 0.9466 - val_loss: 1.4489 - val_accuracy: 0.6170\n",
      "Epoch 14/15\n",
      "184/184 [==============================] - 36s 195ms/step - loss: 0.1493 - accuracy: 0.9475 - val_loss: 0.2734 - val_accuracy: 0.9178\n",
      "Epoch 15/15\n",
      "184/184 [==============================] - 36s 198ms/step - loss: 0.1403 - accuracy: 0.9518 - val_loss: 0.2161 - val_accuracy: 0.9318\n"
     ]
    }
   ],
   "source": [
    "history = classifier.fit(X_train, y_train, batch_size=120, epochs=15, verbose=1, validation_data=(X_valid, y_valid))"
   ]
  },
  {
   "cell_type": "code",
   "execution_count": 9,
   "metadata": {},
   "outputs": [
    {
     "name": "stdout",
     "output_type": "stream",
     "text": [
      "173/173 [==============================] - 3s 16ms/step - loss: 0.2161 - accuracy: 0.9318\n",
      "Test_Accuracy: 93.18%\n"
     ]
    }
   ],
   "source": [
    "print(\"Test_Accuracy: {:.2f}%\".format(classifier.evaluate(X_valid, y_valid)[1]*100))"
   ]
  },
  {
   "cell_type": "markdown",
   "metadata": {},
   "source": [
    "-  Summary of the Model"
   ]
  },
  {
   "cell_type": "code",
   "execution_count": 10,
   "metadata": {},
   "outputs": [
    {
     "name": "stdout",
     "output_type": "stream",
     "text": [
      "Model: \"sequential\"\n",
      "_________________________________________________________________\n",
      "Layer (type)                 Output Shape              Param #   \n",
      "=================================================================\n",
      "conv2d (Conv2D)              (None, 48, 48, 32)        896       \n",
      "_________________________________________________________________\n",
      "max_pooling2d (MaxPooling2D) (None, 24, 24, 32)        0         \n",
      "_________________________________________________________________\n",
      "batch_normalization (BatchNo (None, 24, 24, 32)        128       \n",
      "_________________________________________________________________\n",
      "dropout (Dropout)            (None, 24, 24, 32)        0         \n",
      "_________________________________________________________________\n",
      "conv2d_1 (Conv2D)            (None, 22, 22, 32)        9248      \n",
      "_________________________________________________________________\n",
      "max_pooling2d_1 (MaxPooling2 (None, 11, 11, 32)        0         \n",
      "_________________________________________________________________\n",
      "batch_normalization_1 (Batch (None, 11, 11, 32)        128       \n",
      "_________________________________________________________________\n",
      "dropout_1 (Dropout)          (None, 11, 11, 32)        0         \n",
      "_________________________________________________________________\n",
      "flatten (Flatten)            (None, 3872)              0         \n",
      "_________________________________________________________________\n",
      "dense (Dense)                (None, 128)               495744    \n",
      "_________________________________________________________________\n",
      "batch_normalization_2 (Batch (None, 128)               512       \n",
      "_________________________________________________________________\n",
      "dropout_2 (Dropout)          (None, 128)               0         \n",
      "_________________________________________________________________\n",
      "dense_1 (Dense)              (None, 2)                 258       \n",
      "=================================================================\n",
      "Total params: 506,914\n",
      "Trainable params: 506,530\n",
      "Non-trainable params: 384\n",
      "_________________________________________________________________\n"
     ]
    }
   ],
   "source": [
    "classifier.summary()"
   ]
  },
  {
   "cell_type": "markdown",
   "metadata": {},
   "source": [
    "## Prediction, Evaluation and Testing of the Model"
   ]
  },
  {
   "cell_type": "markdown",
   "metadata": {},
   "source": [
    "- Lets do our first prediction using predict and predict X_valid and store in y_pred variable"
   ]
  },
  {
   "cell_type": "code",
   "execution_count": 11,
   "metadata": {},
   "outputs": [],
   "source": [
    "y_pred = classifier.predict(X_valid)"
   ]
  },
  {
   "cell_type": "code",
   "execution_count": 12,
   "metadata": {},
   "outputs": [],
   "source": [
    "# Convert back to categorical values \n",
    "y_pred = np.argmax(y_pred, axis=1)\n",
    "y_valid = np.argmax(y_valid, axis=1)"
   ]
  },
  {
   "cell_type": "code",
   "execution_count": 13,
   "metadata": {},
   "outputs": [
    {
     "name": "stdout",
     "output_type": "stream",
     "text": [
      "Accuracy Score:  0.9317851959361393\n"
     ]
    }
   ],
   "source": [
    "print('Accuracy Score: ', accuracy_score(y_valid, y_pred))"
   ]
  },
  {
   "cell_type": "markdown",
   "metadata": {},
   "source": [
    "- Evaluation of the CNN model by Plotting Confusion Matrix "
   ]
  },
  {
   "cell_type": "code",
   "execution_count": 14,
   "metadata": {},
   "outputs": [
    {
     "data": {
      "text/plain": [
       "<matplotlib.axes._subplots.AxesSubplot at 0x7f2134173b10>"
      ]
     },
     "execution_count": 14,
     "metadata": {},
     "output_type": "execute_result"
    },
    {
     "data": {
      "image/png": "[encoded data removed]",
      "text/plain": [
       "<Figure size 432x288 with 2 Axes>"
      ]
     },
     "metadata": {
      "needs_background": "light"
     },
     "output_type": "display_data"
    }
   ],
   "source": [
    "# Plotting the Confusion Matrix\n",
    "conf = confusion_matrix(y_valid, y_pred)\n",
    "sns.heatmap(conf, annot=True)"
   ]
  },
  {
   "cell_type": "code",
   "execution_count": null,
   "metadata": {},
   "outputs": [],
   "source": [
    "classifier.save(\"Models/malaria.h5\")"
   ]
  }
 ],
 "metadata": {
  "kernelspec": {
   "display_name": "Python 3",
   "language": "python",
   "name": "python3"
  },
  "language_info": {
   "codemirror_mode": {
    "name": "ipython",
    "version": 3
   },
   "file_extension": ".py",
   "mimetype": "text/x-python",
   "name": "python",
   "nbconvert_exporter": "python",
   "pygments_lexer": "ipython3",
   "version": "3.8.3"
  }
 },
 "nbformat": 4,
 "nbformat_minor": 4
}
